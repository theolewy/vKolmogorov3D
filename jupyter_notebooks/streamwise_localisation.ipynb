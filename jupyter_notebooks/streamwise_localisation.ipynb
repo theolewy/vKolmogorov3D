{
 "cells": [
  {
   "cell_type": "code",
   "execution_count": 1,
   "metadata": {},
   "outputs": [],
   "source": [
    "%load_ext autoreload\n",
    "%autoreload 2\n",
    "\n",
    "import numpy as np\n",
    "import scipy\n",
    "import sys\n",
    "import matplotlib.pyplot as plt\n",
    "from scipy.integrate import trapezoid\n",
    "import os \n",
    "\n",
    "\n",
    "from tools.misc_tools import get_h5_data\n",
    "from matplotlib.colors import Normalize, LightSource\n",
    "from mpl_toolkits.mplot3d import Axes3D\n",
    "from skimage.measure import marching_cubes\n",
    "from mpl_toolkits.mplot3d.art3d import Poly3DCollection"
   ]
  },
  {
   "cell_type": "code",
   "execution_count": 4,
   "metadata": {},
   "outputs": [
    {
     "name": "stdout",
     "output_type": "stream",
     "text": [
      "Big change at s=13...\n",
      "Big change at s=60...\n",
      "Big change at s=63...\n",
      "Big change at s=13...\n",
      "Big change at s=60...\n",
      "Big change at s=63...\n",
      "Big change at s=2...\n",
      "Big change at s=3...\n",
      "Big change at s=2...\n",
      "Big change at s=3...\n"
     ]
    },
    {
     "data": {
      "text/plain": [
       "[<matplotlib.lines.Line2D at 0x7fd9ecedb890>]"
      ]
     },
     "execution_count": 4,
     "metadata": {},
     "output_type": "execute_result"
    },
    {
     "data": {
      "image/png": "[encoded data removed]",
      "text/plain": [
       "<Figure size 640x480 with 1 Axes>"
      ]
     },
     "metadata": {},
     "output_type": "display_data"
    }
   ],
   "source": [
    "from tools.misc_tools import get_metric_from_params\n",
    "\n",
    "material_params = {'W':20, 'beta': 0.9, 'Re': 0.5, 'L':np.inf, 'eps': 1e-3}\n",
    "solver_params = {'Nx': 480, 'Ny': 64, 'Nz': 64}\n",
    "system_params = {'Lx': 32*np.pi,  'ndim': 3, 'n': 1, 'Lz': 5*np.pi}\n",
    "\n",
    "\n",
    "t_all, metric_all = get_metric_from_params(material_params, system_params, solver_params, suffix='long-windowed', subdir='localisation', metric='trace', deviation=True)\n",
    "plt.plot(t_all-t_all[0], metric_all, color='blue')\n",
    "t_all, metric_all = get_metric_from_params(material_params, system_params, solver_params, suffix='long-windowed', subdir='localisation', metric='KE', deviation=True)\n",
    "plt.plot(t_all-t_all[0], metric_all, color='orange')\n",
    "\n",
    "material_params = {'W':18, 'beta': 0.9, 'Re': 0.5, 'L':np.inf, 'eps': 1e-3}\n",
    "solver_params = {'Nx': 480, 'Ny': 64, 'Nz': 64}\n",
    "system_params = {'Lx': 32*np.pi,  'ndim': 3, 'n': 1, 'Lz': 5*np.pi}\n",
    "\n",
    "\n",
    "t_all, metric_all = get_metric_from_params(material_params, system_params, solver_params, suffix='long-windowed', subdir='localisation', metric='trace', deviation=True)\n",
    "plt.plot(t_all-t_all[0], metric_all, color='blue', linestyle='--')\n",
    "t_all, metric_all = get_metric_from_params(material_params, system_params, solver_params, suffix='long-windowed', subdir='localisation', metric='KE', deviation=True)\n",
    "plt.plot(t_all-t_all[0], metric_all, color='orange', linestyle='--')\n"
   ]
  },
  {
   "cell_type": "code",
   "execution_count": 6,
   "metadata": {},
   "outputs": [],
   "source": [
    "from tools.misc_tools import get_AH_W_list\n",
    "\n",
    "# W_list_2D = get_AH_W_list(eps=1e-3, beta=0.9, Re=0.5, L=np.infty, Lx=3*np.pi, Nx=128, Ny=256, ndim=2, Nz=None, Lz=None, subdir='arrowhead_2D', suffix='recent-')\n",
    "\n",
    "W_list_3D = [16,16.5, 17,18,19,20]"
   ]
  },
  {
   "cell_type": "code",
   "execution_count": 10,
   "metadata": {},
   "outputs": [
    {
     "name": "stdout",
     "output_type": "stream",
     "text": [
      "16\n",
      "16.5\n",
      "17\n"
     ]
    },
    {
     "ename": "IndexError",
     "evalue": "index -1 is out of bounds for axis 0 with size 0",
     "output_type": "error",
     "traceback": [
      "\u001b[31m---------------------------------------------------------------------------\u001b[39m",
      "\u001b[31mIndexError\u001b[39m                                Traceback (most recent call last)",
      "\u001b[36mCell\u001b[39m\u001b[36m \u001b[39m\u001b[32mIn[10]\u001b[39m\u001b[32m, line 13\u001b[39m\n\u001b[32m     11\u001b[39m \u001b[38;5;28mprint\u001b[39m(W)\n\u001b[32m     12\u001b[39m t_all, metric_all = get_metric_from_params(material_params, system_params, solver_params, suffix=\u001b[33m'\u001b[39m\u001b[33mrecent-localised\u001b[39m\u001b[33m'\u001b[39m, subdir=\u001b[33m'\u001b[39m\u001b[33marrowhead_3D\u001b[39m\u001b[33m'\u001b[39m, metric=\u001b[33m'\u001b[39m\u001b[33mtrace\u001b[39m\u001b[33m'\u001b[39m, deviation=\u001b[38;5;28;01mTrue\u001b[39;00m)\n\u001b[32m---> \u001b[39m\u001b[32m13\u001b[39m metric_list_3D.append(\u001b[43mmetric_all\u001b[49m\u001b[43m[\u001b[49m\u001b[43m-\u001b[49m\u001b[32;43m1\u001b[39;49m\u001b[43m]\u001b[49m)\n\u001b[32m     14\u001b[39m W_list_3D_plot.append(W)\n",
      "\u001b[31mIndexError\u001b[39m: index -1 is out of bounds for axis 0 with size 0"
     ]
    }
   ],
   "source": [
    "from tools.misc_tools import get_metric_from_params\n",
    "\n",
    "material_params = {'beta': 0.9, 'Re': 0.5, 'L':np.inf, 'eps': 1e-3}\n",
    "solver_params = {'Nx': 64, 'Ny': 64, 'Nz': 64}\n",
    "system_params = {'Lx': 3*np.pi,  'ndim': 3, 'n': 1, 'Lz': 4*np.pi}\n",
    "\n",
    "metric_list_3D = []\n",
    "W_list_3D_plot = []\n",
    "for W in W_list_3D:\n",
    "    material_params['W'] = W\n",
    "    print(W)\n",
    "    t_all, metric_all = get_metric_from_params(material_params, system_params, solver_params, suffix='recent-localised', subdir='arrowhead_3D', metric='trace', deviation=True)\n",
    "    metric_list_3D.append(metric_all[-1])\n",
    "    W_list_3D_plot.append(W)\n",
    "\n"
   ]
  },
  {
   "cell_type": "code",
   "execution_count": 4,
   "metadata": {},
   "outputs": [
    {
     "ename": "IndexError",
     "evalue": "index 0 is out of bounds for axis 0 with size 0",
     "output_type": "error",
     "traceback": [
      "\u001b[31m---------------------------------------------------------------------------\u001b[39m",
      "\u001b[31mIndexError\u001b[39m                                Traceback (most recent call last)",
      "\u001b[36mCell\u001b[39m\u001b[36m \u001b[39m\u001b[32mIn[4]\u001b[39m\u001b[32m, line 11\u001b[39m\n\u001b[32m      7\u001b[39m mode = \u001b[33m'\u001b[39m\u001b[33mtrace\u001b[39m\u001b[33m'\u001b[39m\n\u001b[32m     10\u001b[39m t_all, metric_all = get_metric_from_params(material_params, system_params, solver_params, suffix=\u001b[33m'\u001b[39m\u001b[33mlong-periodic-yz\u001b[39m\u001b[33m'\u001b[39m, subdir=\u001b[33m'\u001b[39m\u001b[33marrowhead_3D\u001b[39m\u001b[33m'\u001b[39m, metric=mode, deviation=\u001b[38;5;28;01mTrue\u001b[39;00m)\n\u001b[32m---> \u001b[39m\u001b[32m11\u001b[39m plt.plot(t_all-\u001b[43mt_all\u001b[49m\u001b[43m[\u001b[49m\u001b[32;43m0\u001b[39;49m\u001b[43m]\u001b[49m, metric_all)\n",
      "\u001b[31mIndexError\u001b[39m: index 0 is out of bounds for axis 0 with size 0"
     ]
    }
   ],
   "source": [
    "from tools.misc_tools import get_metric_from_params\n",
    "\n",
    "material_params = {'W':20, 'beta': 0.9, 'Re': 0.5, 'L':np.inf, 'eps': 1e-3}\n",
    "solver_params = {'Nx': 64, 'Ny': 64, 'Nz': 96}\n",
    "system_params = {'Lx': 3*np.pi,  'ndim': 3, 'n': 1, 'Lz': 4.4*np.pi}\n",
    "\n",
    "mode = 'trace'\n",
    "\n",
    "\n",
    "t_all, metric_all = get_metric_from_params(material_params, system_params, solver_params, suffix='long-periodic-yz', subdir='arrowhead_3D', metric=mode, deviation=True)\n",
    "plt.plot(t_all-t_all[0], metric_all)\n"
   ]
  },
  {
   "cell_type": "code",
   "execution_count": null,
   "metadata": {},
   "outputs": [],
   "source": []
  }
 ],
 "metadata": {
  "kernelspec": {
   "display_name": "Python 3 (ipykernel)",
   "language": "python",
   "name": "python3"
  },
  "language_info": {
   "codemirror_mode": {
    "name": "ipython",
    "version": 3
   },
   "file_extension": ".py",
   "mimetype": "text/x-python",
   "name": "python",
   "nbconvert_exporter": "python",
   "pygments_lexer": "ipython3",
   "version": "3.12.9"
  }
 },
 "nbformat": 4,
 "nbformat_minor": 2
}
